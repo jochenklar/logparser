{
 "cells": [
  {
   "cell_type": "code",
   "execution_count": null,
   "id": "5dd44c08-5a79-4bb1-8305-d0b454bb2640",
   "metadata": {},
   "outputs": [],
   "source": [
    "from pathlib import Path\n",
    "\n",
    "import pandas as pd\n",
    "\n",
    "import psycopg2"
   ]
  },
  {
   "cell_type": "code",
   "execution_count": null,
   "id": "d54a4e73-8076-4231-a674-5288e5035cee",
   "metadata": {},
   "outputs": [],
   "source": [
    "conn = psycopg2.connect(dbname='logs')"
   ]
  },
  {
   "cell_type": "code",
   "execution_count": null,
   "id": "3576758f-c045-4075-bdcf-4cfc4aac4b21",
   "metadata": {},
   "outputs": [],
   "source": [
    "# get the number of log entires for each day\n",
    "df = pd.read_sql('''\n",
    "    SELECT date, count(date) FROM records\n",
    "    GROUP BY date\n",
    "    ORDER BY date\n",
    "''', conn)\n",
    "df.date = pd.to_datetime(df['date'], format='%Y-%m-%d')\n",
    "df.set_index(['date'], inplace=True)\n",
    "df.plot()\n",
    "df"
   ]
  },
  {
   "cell_type": "code",
   "execution_count": null,
   "id": "d8fdac7d-fa2b-42f4-b920-68fdfdcb2fd0",
   "metadata": {},
   "outputs": [],
   "source": [
    "# get the list of most popular URLs\n",
    "df = pd.read_sql('''\n",
    "    SELECT path, count(*) as \"count\" FROM records\n",
    "    GROUP BY path\n",
    "    ORDER BY \"count\" desc\n",
    "    LIMIT 10\n",
    "''', conn)\n",
    "df.set_index(['path'], inplace=True)\n",
    "df.plot.bar(y='count')\n",
    "df"
   ]
  },
  {
   "cell_type": "code",
   "execution_count": null,
   "id": "a7265e42-0d2d-45cd-aaf9-9878c0f4e03b",
   "metadata": {},
   "outputs": [],
   "source": [
    "# get the list of http status codes\n",
    "df = pd.read_sql('''\n",
    "    SELECT status, count(*) as \"count\" FROM records\n",
    "    GROUP BY status\n",
    "    ORDER BY \"count\" desc\n",
    "''', conn)\n",
    "df.set_index(['status'], inplace=True)\n",
    "df.plot.bar(y='count')\n",
    "df"
   ]
  },
  {
   "cell_type": "code",
   "execution_count": null,
   "id": "15a7c5fa-c598-4174-bc62-5201ce70db1e",
   "metadata": {},
   "outputs": [],
   "source": [
    "# get the list of refering websites\n",
    "df = pd.read_sql('''\n",
    "    SELECT referrer_host, count(*) as \"count\" FROM records\n",
    "    GROUP BY referrer_host\n",
    "    ORDER BY \"count\" desc\n",
    "''', conn)\n",
    "df.set_index(['referrer_host'], inplace=True)\n",
    "df.plot.bar(y='count')\n",
    "df"
   ]
  },
  {
   "cell_type": "code",
   "execution_count": null,
   "id": "f6075062-eed6-4a55-8bcd-746ad61dbe38",
   "metadata": {},
   "outputs": [],
   "source": [
    "# get the list of requests by country\n",
    "df = pd.read_sql('''\n",
    "    SELECT country, count(*) as \"count\" FROM records\n",
    "    GROUP BY country\n",
    "    ORDER BY \"count\" desc\n",
    "    LIMIT 10\n",
    "''', conn)\n",
    "df.set_index(['country'], inplace=True)\n",
    "df.plot.bar(y='count')\n",
    "df"
   ]
  }
 ],
 "metadata": {
  "kernelspec": {
   "display_name": "Python 3",
   "language": "python",
   "name": "python3"
  },
  "language_info": {
   "codemirror_mode": {
    "name": "ipython",
    "version": 3
   },
   "file_extension": ".py",
   "mimetype": "text/x-python",
   "name": "python",
   "nbconvert_exporter": "python",
   "pygments_lexer": "ipython3",
   "version": "3.7.3"
  }
 },
 "nbformat": 4,
 "nbformat_minor": 5
}
